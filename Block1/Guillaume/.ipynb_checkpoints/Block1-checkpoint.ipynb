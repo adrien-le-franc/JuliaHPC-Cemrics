{
 "cells": [
  {
   "cell_type": "markdown",
   "metadata": {},
   "source": [
    "# JuliaHPC @ CERMICS - block 1"
   ]
  },
  {
   "cell_type": "markdown",
   "metadata": {},
   "source": [
    "______________________________________________"
   ]
  },
  {
   "cell_type": "markdown",
   "metadata": {},
   "source": [
    "# Julia basics"
   ]
  },
  {
   "cell_type": "markdown",
   "metadata": {},
   "source": [
    "## Learning Julia"
   ]
  },
  {
   "cell_type": "markdown",
   "metadata": {},
   "source": [
    "The Julia website has a great list of resources for beginners at https://julialang.org/learning/. \n",
    "\n",
    "If you just need a quick refresher about syntax, https://juliadocs.github.io/Julia-Cheat-Sheet/ is the place to go.\n",
    "\n",
    "If you want to go further, here is a list of quality books and tutorials:\n",
    "- https://benlauwens.github.io/ThinkJulia.jl/latest/book.html\n",
    "- https://techytok.com/from-zero-to-julia/\n",
    "- https://ucidatascienceinitiative.github.io/IntroToJulia/\n",
    "\n",
    "In addition, we offer two handmade tutorials prepared by CERMICS students:\n",
    "- https://github.com/gdalle/IntroJulia\n",
    "- https://github.com/mfherbst/course_julia_day"
   ]
  },
  {
   "cell_type": "markdown",
   "metadata": {},
   "source": [
    "## Workflow"
   ]
  },
  {
   "cell_type": "markdown",
   "metadata": {},
   "source": [
    "When coding in Julia, you want to select a comfortable IDE. Safe choices include:\n",
    "- Atom (https://atom.io/) with the Juno package (https://junolab.org/)\n",
    "- VSCode (https://code.visualstudio.com/) with the Julia for VSCode package (https://www.julia-vscode.org/)\n",
    "\n",
    "Some workflow tips can be found on https://docs.julialang.org/en/v1/manual/workflow-tips/."
   ]
  },
  {
   "cell_type": "markdown",
   "metadata": {},
   "source": [
    "## Good practices"
   ]
  },
  {
   "cell_type": "markdown",
   "metadata": {},
   "source": [
    "### Style"
   ]
  },
  {
   "cell_type": "markdown",
   "metadata": {},
   "source": [
    "Julia has no universally agreed-upon style guide like Python. The main guidelines can be found at https://docs.julialang.org/en/v1/manual/style-guide/. For an exhaustive style reference, have a look at the unofficial BlueStyle https://github.com/invenia/BlueStyle."
   ]
  },
  {
   "cell_type": "markdown",
   "metadata": {},
   "source": [
    "### Documentation"
   ]
  },
  {
   "cell_type": "markdown",
   "metadata": {},
   "source": [
    "If you are courageous enough to write documentation (which you should be), the best place to put it is next to your code using docstrings. Julia docstrings are basically Markdown, see https://docs.julialang.org/en/v1/manual/documentation/ for a reference. If you want to automatically generate a nice HTML documentation website, https://github.com/JuliaDocs/Documenter.jl is the place to go."
   ]
  },
  {
   "cell_type": "markdown",
   "metadata": {},
   "source": [
    "### Unit testing"
   ]
  },
  {
   "cell_type": "markdown",
   "metadata": {},
   "source": [
    "The nice thing about https://github.com/JuliaDocs/Documenter.jl is that is also enables unit testing from within the documentation itself. Inside a docstring, you can put examples of input and expected output, which will be run again and checked for correctness every time the documentation is updated. These examples are called doctests."
   ]
  },
  {
   "cell_type": "markdown",
   "metadata": {},
   "source": [
    "### Mathematical code"
   ]
  },
  {
   "cell_type": "markdown",
   "metadata": {},
   "source": [
    "Julia supports unicode input (https://docs.julialang.org/en/v1/manual/unicode-input/), which include a large range of LateX symbols, indices and stuff like that. Don't hesitate to use it to make your code clearer."
   ]
  },
  {
   "cell_type": "markdown",
   "metadata": {},
   "source": [
    "## Getting help"
   ]
  },
  {
   "cell_type": "markdown",
   "metadata": {},
   "source": [
    "The Julia community is very active and welcoming, so don't hesitate to ask for help in the following venues (by order of priority):\n",
    "- a quick Google search\n",
    "- the Slack https://julialang.org/slack/\n",
    "- the discourse forum https://discourse.julialang.org/\n",
    "- a specific package's GitHub issues"
   ]
  },
  {
   "cell_type": "markdown",
   "metadata": {},
   "source": [
    "# Measuring code performance"
   ]
  },
  {
   "cell_type": "markdown",
   "metadata": {},
   "source": [
    "### Monitoring"
   ]
  },
  {
   "cell_type": "markdown",
   "metadata": {},
   "source": [
    "- https://github.com/timholy/ProgressMeter.jl"
   ]
  },
  {
   "cell_type": "markdown",
   "metadata": {},
   "source": [
    "### Benchmarking"
   ]
  },
  {
   "cell_type": "markdown",
   "metadata": {},
   "source": [
    "- `@time` macro for computation time\n",
    "- `@allocated` macro for memory use\n",
    "- `@benchmark` macro from package https://github.com/JuliaCI/BenchmarkTools.jl for multiple runs"
   ]
  },
  {
   "cell_type": "markdown",
   "metadata": {},
   "source": [
    "### Profiling"
   ]
  },
  {
   "cell_type": "markdown",
   "metadata": {},
   "source": [
    "- https://docs.julialang.org/en/v1/manual/profile/\n",
    "- https://github.com/timholy/ProfileView.jl\n",
    "- https://github.com/kimikage/ProfileSVG.jl"
   ]
  },
  {
   "cell_type": "markdown",
   "metadata": {},
   "source": [
    "### Bonus: built-in IDE tools"
   ]
  },
  {
   "cell_type": "markdown",
   "metadata": {},
   "source": [
    "Among the nice features of Juno, you will find a built-in profiler and a progress meter : https://docs.junolab.org/latest/man/juno_frontend/."
   ]
  },
  {
   "cell_type": "markdown",
   "metadata": {},
   "source": [
    "# Improving code performance"
   ]
  },
  {
   "cell_type": "markdown",
   "metadata": {},
   "source": [
    "The primary source for this section is the Julia language manual: https://docs.julialang.org/en/v1/manual/performance-tips/"
   ]
  },
  {
   "cell_type": "markdown",
   "metadata": {},
   "source": [
    "### General advice"
   ]
  },
  {
   "cell_type": "markdown",
   "metadata": {},
   "source": [
    "- Premature optimization is the root of all evil\n",
    "- Never optimize before profiling, you could end up optimizing the wrong part of the code\n",
    "- Use https://github.com/JunoLab/Traceur.jl to find inefficiencies in your code"
   ]
  },
  {
   "cell_type": "markdown",
   "metadata": {},
   "source": [
    "### Memory allocations"
   ]
  },
  {
   "cell_type": "markdown",
   "metadata": {},
   "source": [
    "- Prefer in-place operations\n",
    "- Pre-allocate output"
   ]
  },
  {
   "cell_type": "markdown",
   "metadata": {},
   "source": [
    "### Multiple dispatch"
   ]
  },
  {
   "cell_type": "markdown",
   "metadata": {},
   "source": [
    "- http://www.stochasticlifestyle.com/type-dispatch-design-post-object-oriented-programming-julia/"
   ]
  },
  {
   "cell_type": "markdown",
   "metadata": {},
   "source": [
    "### Type stability"
   ]
  },
  {
   "cell_type": "markdown",
   "metadata": {},
   "source": []
  },
  {
   "cell_type": "markdown",
   "metadata": {},
   "source": [
    "### Concrete types"
   ]
  },
  {
   "cell_type": "markdown",
   "metadata": {},
   "source": []
  },
  {
   "cell_type": "markdown",
   "metadata": {},
   "source": [
    "### Vectorized operations"
   ]
  },
  {
   "cell_type": "markdown",
   "metadata": {},
   "source": []
  }
 ],
 "metadata": {
  "kernelspec": {
   "display_name": "Julia 1.5.2",
   "language": "julia",
   "name": "julia-1.5"
  },
  "language_info": {
   "file_extension": ".jl",
   "mimetype": "application/julia",
   "name": "julia",
   "version": "1.5.2"
  }
 },
 "nbformat": 4,
 "nbformat_minor": 4
}
