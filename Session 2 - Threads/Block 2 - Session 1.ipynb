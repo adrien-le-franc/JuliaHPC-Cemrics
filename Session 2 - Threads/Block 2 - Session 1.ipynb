{
 "cells": [
  {
   "cell_type": "markdown",
   "metadata": {
    "slideshow": {
     "slide_type": "slide"
    }
   },
   "source": [
    " # JuliaHPC @ CERMICS\n",
    " \n",
    " ## Block 2: Parallelisation\n",
    "\n",
    " ### Session 2: Threads\n",
    "\n",
    "Cyrille Vessaire\n",
    "\n",
    "2021/02/10"
   ]
  },
  {
   "cell_type": "code",
   "execution_count": 51,
   "metadata": {
    "slideshow": {
     "slide_type": "skip"
    }
   },
   "outputs": [],
   "source": [
    "#import Pkg\n",
    "#Pkg.add([\n",
    "#         \"BenchmarkTools\",\n",
    "#         \"LightGraphs\",\n",
    "#         \"GraphPlot\",\n",
    "#         \"LinearAlgebra\",\n",
    "#         \"Profile\",\n",
    "#         \"ProfileSVG\",\n",
    "#         \"ProgressMeter\",\n",
    "#         \"Random\",\n",
    "#         \"Traceur\",\n",
    "#         \"ThreadTools\"\n",
    "#])"
   ]
  },
  {
   "cell_type": "markdown",
   "metadata": {
    "slideshow": {
     "slide_type": "slide"
    }
   },
   "source": [
    "# A. Parallelisation"
   ]
  },
  {
   "cell_type": "markdown",
   "metadata": {
    "slideshow": {
     "slide_type": "slide"
    }
   },
   "source": [
    "## A.1) What is Parallelisation\n",
    "\n",
    "Parallelisation is an idea as old as computer science itself. \n",
    "\n",
    "\n",
    "The basic idea comes from one question:\n",
    "\n",
    "when one has a problem that take 10 hours to solve on one machine, \n",
    "\n",
    "wouldn't it be possible to solve it in 5 hours with two machines?\n",
    "\n",
    "Parallelism is thus an old idea on how to make <span style=\"color:red\">computation faster </span>."
   ]
  },
  {
   "cell_type": "markdown",
   "metadata": {
    "slideshow": {
     "slide_type": "slide"
    }
   },
   "source": [
    "## A.2) Level of parallelism\n",
    "\n",
    "There are three main level for parallelisation\n",
    "- Bit-level parallelism\n",
    "- Instruction level parallelism\n",
    "- Task level parallelism\n",
    "\n",
    "The first two are made at the processor level.\n",
    "We will only tackle <span style=\"color:red\">Task level parallelism </span>."
   ]
  },
  {
   "cell_type": "markdown",
   "metadata": {
    "slideshow": {
     "slide_type": "slide"
    }
   },
   "source": [
    "## A.3) Parallelism and computer hardware\n",
    "\n",
    "Depending on your hardware, you won't do parallelisation with the same tools.\n",
    "Here is an illustration of the common part of a computer:\n",
    "\n",
    " <center>\n",
    "    <img src=\"./tikzgraphics/tikz_computers.png\" >\n",
    " </center>\n",
    "\n",
    "In this presentation on multi-threading, we will only consider parallelism on <span style=\"color:red\">one machine</span>, and with the <span style=\"color:red\">CPU</span>."
   ]
  },
  {
   "cell_type": "markdown",
   "metadata": {
    "slideshow": {
     "slide_type": "slide"
    }
   },
   "source": [
    "# B. Multi-threading"
   ]
  },
  {
   "cell_type": "markdown",
   "metadata": {
    "slideshow": {
     "slide_type": "slide"
    }
   },
   "source": [
    "## B.1) Threads vs Processes\n",
    "\n",
    "A process is an instance of a computer program.\n",
    "In modern OS, due to security issue, processes don't share the same memory.\n",
    "\n",
    "Meanwhile, threads are <span style=\"color:red\">part</span> of <span style=\"color:red\">one process</span>, and have <span style=\"color:red\">direct access to the same data</span>."
   ]
  },
  {
   "cell_type": "markdown",
   "metadata": {
    "slideshow": {
     "slide_type": "subslide"
    }
   },
   "source": [
    "Pros and Cons of Threads\n",
    "\n",
    "Pros:\n",
    "1. <span style=\"color:red\">Threads share the same memory register</span>. They can use the same variables, array, etc.\n",
    "2. They are the <span style=\"color:red\">easiest way</span>. to implement parallelisation*\n",
    "\n",
    "Cons:\n",
    "1. <span style=\"color:red\">Threads share the same memory register</span>.. They can modify each others data and output false results\n",
    "2. You can't share threads on <span style=\"color:red\">multiple computers</span>.. Parallelisation through multi-threading can work on only one process.\n",
    "\n",
    "*When you have a functionning serial code\n"
   ]
  },
  {
   "cell_type": "markdown",
   "metadata": {
    "slideshow": {
     "slide_type": "slide"
    }
   },
   "source": [
    "## B.2) Threading in Julia\n",
    "\n",
    "### a) Preparation\n",
    "\n",
    "First, one can change environment variable so that julia can use multiple threads.\n",
    "\n",
    "In windows, write\n",
    "```shell\n",
    "foo@bar:~$ set JULIA_NUM_THREADS=4\n",
    "```\n",
    "\n",
    "In linux, do\n",
    "```shell\n",
    "foo@bar:~$ export JULIA_NUM_THREADS=4\n",
    "```"
   ]
  },
  {
   "cell_type": "markdown",
   "metadata": {
    "slideshow": {
     "slide_type": "subslide"
    }
   },
   "source": [
    "You can the number of available threads with"
   ]
  },
  {
   "cell_type": "code",
   "execution_count": 11,
   "metadata": {
    "slideshow": {
     "slide_type": "fragment"
    }
   },
   "outputs": [
    {
     "data": {
      "text/plain": [
       "4"
      ]
     },
     "execution_count": 11,
     "metadata": {},
     "output_type": "execute_result"
    }
   ],
   "source": [
    "using Base.Threads\n",
    "nthreads()"
   ]
  },
  {
   "cell_type": "markdown",
   "metadata": {
    "slideshow": {
     "slide_type": "subslide"
    }
   },
   "source": [
    "One can also set the number of threads by using the -t argument when launching REPL (on julia 1.5).\n",
    "\n",
    "```shell\n",
    "foo@bar:~$ julia -t 4\n",
    "```\n",
    "\n",
    "You can also check that threading work well with tests such as"
   ]
  },
  {
   "cell_type": "code",
   "execution_count": 12,
   "metadata": {
    "slideshow": {
     "slide_type": "fragment"
    }
   },
   "outputs": [
    {
     "name": "stdout",
     "output_type": "stream",
     "text": [
      "1\n",
      "3\n",
      "3\n",
      "4\n",
      "4\n",
      "2\n",
      "2\n",
      "2\n",
      "1\n",
      "1\n"
     ]
    }
   ],
   "source": [
    "@threads for i in 1:10\n",
    "    println(Threads.threadid())\n",
    "end"
   ]
  },
  {
   "cell_type": "markdown",
   "metadata": {
    "slideshow": {
     "slide_type": "subslide"
    }
   },
   "source": [
    "To use multi-threading in notebooks, you need to <span style=\"color:red\">create a kernel with multiple threads</span>.\n",
    "To do so, write in REPL:"
   ]
  },
  {
   "cell_type": "code",
   "execution_count": null,
   "metadata": {
    "slideshow": {
     "slide_type": "fragment"
    }
   },
   "outputs": [],
   "source": [
    "using IJulia\n",
    "IJulia.installkernel(\"Julia 4 Threads\", env=Dict(\n",
    "    \"JULIA_NUM_THREADS\" => \"4\",\n",
    "))"
   ]
  },
  {
   "cell_type": "markdown",
   "metadata": {
    "slideshow": {
     "slide_type": "slide"
    }
   },
   "source": [
    "#### b) Using Multi-Threading in Julia\n",
    "\n",
    "To do some threadings on `for` loop, use the `@threads` macro\n",
    "\n"
   ]
  },
  {
   "cell_type": "code",
   "execution_count": 3,
   "metadata": {
    "cell_style": "split",
    "slideshow": {
     "slide_type": "fragment"
    }
   },
   "outputs": [
    {
     "name": "stdout",
     "output_type": "stream",
     "text": [
      "1\n",
      "1\n",
      "1\n",
      "1\n",
      "1\n",
      "1\n",
      "1\n",
      "1\n",
      "1\n",
      "1\n"
     ]
    }
   ],
   "source": [
    "for i=1:10\n",
    "    println(Threads.threadid())\n",
    "end"
   ]
  },
  {
   "cell_type": "code",
   "execution_count": 4,
   "metadata": {
    "cell_style": "split",
    "slideshow": {
     "slide_type": "fragment"
    }
   },
   "outputs": [
    {
     "name": "stdout",
     "output_type": "stream",
     "text": [
      "1\n",
      "4\n",
      "3\n",
      "3\n",
      "4\n",
      "2\n",
      "1\n",
      "1\n",
      "2\n",
      "2\n"
     ]
    }
   ],
   "source": [
    "using Base.Threads\n",
    "@threads for i=1:10\n",
    "    println(threadid())\n",
    "end"
   ]
  },
  {
   "cell_type": "markdown",
   "metadata": {
    "slideshow": {
     "slide_type": "subslide"
    }
   },
   "source": [
    "However, one must be careful, as there can be error induced by doing parallel computing"
   ]
  },
  {
   "cell_type": "code",
   "execution_count": 14,
   "metadata": {
    "cell_style": "split",
    "slideshow": {
     "slide_type": "fragment"
    }
   },
   "outputs": [
    {
     "name": "stdout",
     "output_type": "stream",
     "text": [
      "  2.765876 seconds (70.00 M allocations: 1.192 GiB, 13.25% gc time)\n",
      "0\n"
     ]
    }
   ],
   "source": [
    "n = 10^7\n",
    "a = ones(n)\n",
    "@time for i=1:(n-1)\n",
    "    a[i]+= a[i+1]\n",
    "end\n",
    "\n",
    "n_error = 0\n",
    "for i=1:(n-1)\n",
    "    if a[i]!=2\n",
    "        n_error += 1\n",
    "    end\n",
    "end\n",
    "println(n_error)"
   ]
  },
  {
   "cell_type": "code",
   "execution_count": 3,
   "metadata": {
    "cell_style": "split",
    "slideshow": {
     "slide_type": "fragment"
    }
   },
   "outputs": [
    {
     "name": "stdout",
     "output_type": "stream",
     "text": [
      "  0.662718 seconds (60.02 M allocations: 916.470 MiB, 24.39% gc time)\n",
      "3\n"
     ]
    }
   ],
   "source": [
    "using Base.Threads\n",
    "\n",
    "n = 10^7\n",
    "a = ones(n)\n",
    "@time @threads for i=1:(n-1)\n",
    "    a[i]+= a[i+1]\n",
    "end\n",
    "\n",
    "n_error = 0\n",
    "for i=1:(n-1)\n",
    "    if a[i]!=2\n",
    "        n_error += 1\n",
    "    end\n",
    "end\n",
    "println(n_error)"
   ]
  },
  {
   "cell_type": "markdown",
   "metadata": {
    "slideshow": {
     "slide_type": "subslide"
    }
   },
   "source": [
    "We need to be careful of race competition situation.\n",
    "\n",
    "A race competition happens when two threads want to access and modify a given memory cell."
   ]
  },
  {
   "cell_type": "code",
   "execution_count": 39,
   "metadata": {
    "cell_style": "split",
    "slideshow": {
     "slide_type": "fragment"
    }
   },
   "outputs": [],
   "source": [
    "using Base.Threads\n",
    "\n",
    "n = 10^7\n",
    "a = ones(n)\n",
    "for i=1:(n-1)\n",
    "    a[i]+= a[i+1]\n",
    "end\n",
    "\n",
    "b = ones(n)\n",
    "@threads for i=1:(n-1)\n",
    "    b[i]+= b[i+1]\n",
    "end"
   ]
  },
  {
   "cell_type": "code",
   "execution_count": 36,
   "metadata": {
    "cell_style": "split",
    "slideshow": {
     "slide_type": "fragment"
    }
   },
   "outputs": [
    {
     "name": "stdout",
     "output_type": "stream",
     "text": [
      "3\n"
     ]
    }
   ],
   "source": [
    "n_error = 0\n",
    "for i=1:n\n",
    "    if a[i]!=b[i]\n",
    "        n_error += 1\n",
    "    end\n",
    "end\n",
    "println(n_error)"
   ]
  },
  {
   "cell_type": "code",
   "execution_count": 37,
   "metadata": {
    "slideshow": {
     "slide_type": "subslide"
    }
   },
   "outputs": [
    {
     "name": "stdout",
     "output_type": "stream",
     "text": [
      "[2.5e7, 5.0e7, 7.5e7]\n"
     ]
    }
   ],
   "source": [
    "error_index = zeros(n_error)\n",
    "n_error_bis = 0\n",
    "for i=1:n\n",
    "    if a[i]!=b[i]\n",
    "        n_error_bis += 1\n",
    "        if n_error < 10\n",
    "            error_index[n_error_bis] = i\n",
    "        end\n",
    "    end\n",
    "end\n",
    "println(error_index)"
   ]
  },
  {
   "cell_type": "markdown",
   "metadata": {
    "slideshow": {
     "slide_type": "slide"
    }
   },
   "source": [
    "### c) Preventing race conditions\n",
    "\n",
    "`Threads.Atomic` can be used to prevent race conditions"
   ]
  },
  {
   "cell_type": "code",
   "execution_count": 8,
   "metadata": {
    "cell_style": "split",
    "slideshow": {
     "slide_type": "fragment"
    }
   },
   "outputs": [],
   "source": [
    "i = Threads.Atomic{Int}(0);\n",
    "\n",
    "ids = zeros(4);\n",
    "\n",
    "old_is = zeros(4);\n",
    "\n",
    "@threads for id in 1:4\n",
    "    old_is[id] = Threads.atomic_add!(i, id)\n",
    "    ids[id] = id\n",
    "end"
   ]
  },
  {
   "cell_type": "code",
   "execution_count": 9,
   "metadata": {
    "cell_style": "split",
    "slideshow": {
     "slide_type": "fragment"
    }
   },
   "outputs": [
    {
     "data": {
      "text/plain": [
       "4-element Array{Float64,1}:\n",
       " 0.0\n",
       " 4.0\n",
       " 1.0\n",
       " 6.0"
      ]
     },
     "execution_count": 9,
     "metadata": {},
     "output_type": "execute_result"
    }
   ],
   "source": [
    "old_is"
   ]
  },
  {
   "cell_type": "code",
   "execution_count": 10,
   "metadata": {
    "cell_style": "center",
    "slideshow": {
     "slide_type": "subslide"
    }
   },
   "outputs": [
    {
     "data": {
      "text/plain": [
       "4-element Array{Float64,1}:\n",
       " 1.0\n",
       " 2.0\n",
       " 3.0\n",
       " 4.0"
      ]
     },
     "execution_count": 10,
     "metadata": {},
     "output_type": "execute_result"
    }
   ],
   "source": [
    "ids"
   ]
  },
  {
   "cell_type": "code",
   "execution_count": 11,
   "metadata": {
    "slideshow": {
     "slide_type": "fragment"
    }
   },
   "outputs": [
    {
     "data": {
      "text/plain": [
       "Atomic{Int64}(10)"
      ]
     },
     "execution_count": 11,
     "metadata": {},
     "output_type": "execute_result"
    }
   ],
   "source": [
    "i"
   ]
  },
  {
   "cell_type": "markdown",
   "metadata": {
    "slideshow": {
     "slide_type": "subslide"
    }
   },
   "source": [
    "Another example"
   ]
  },
  {
   "cell_type": "code",
   "execution_count": 25,
   "metadata": {
    "slideshow": {
     "slide_type": "fragment"
    }
   },
   "outputs": [
    {
     "name": "stdout",
     "output_type": "stream",
     "text": [
      "  3.965083 seconds (200.02 M allocations: 2.981 GiB, 18.03% gc time)\n",
      "  1.922673 seconds (19.84 k allocations: 1.027 MiB)\n",
      "27891725\n",
      "100000000\n"
     ]
    }
   ],
   "source": [
    "n = 10^8\n",
    "acc_1 = Ref(0)\n",
    "@time @threads for i in 1:n\n",
    "    acc_1[] += 1\n",
    "end\n",
    "\n",
    "acc_2 = Atomic{Int64}(0)\n",
    "@time @threads for i in 1:n\n",
    "    atomic_add!(acc_2, 1)\n",
    "end\n",
    "\n",
    "println(acc_1[])\n",
    "println(acc_2[])"
   ]
  },
  {
   "cell_type": "markdown",
   "metadata": {
    "slideshow": {
     "slide_type": "subslide"
    }
   },
   "source": [
    "We can also prevent race conditions by using <span style=\"color:red\">locks</span>"
   ]
  },
  {
   "cell_type": "code",
   "execution_count": 10,
   "metadata": {
    "slideshow": {
     "slide_type": "fragment"
    }
   },
   "outputs": [
    {
     "name": "stdout",
     "output_type": "stream",
     "text": [
      "10000\n",
      "3633\n"
     ]
    }
   ],
   "source": [
    "using ThreadTools\n",
    "\n",
    "l = SpinLock()\n",
    "a = [0]\n",
    "@threads for i = 1:10000\n",
    "    lock(l) do\n",
    "        a[] += 1\n",
    "    end\n",
    "end\n",
    "\n",
    "b = [0]\n",
    "@threads for i = 1:10000\n",
    "    b[] += 1\n",
    "end\n",
    "\n",
    "println(a[])\n",
    "println(b[])"
   ]
  },
  {
   "cell_type": "markdown",
   "metadata": {
    "slideshow": {
     "slide_type": "slide"
    }
   },
   "source": [
    "### d) Spawn and synchronization\n",
    "\n",
    "You may want to use threads to do multiple computation, and use `@spawn` to do so.\n",
    "\n",
    "However, while `@threads` is synchronius, `@spawn` isn't.\n",
    "\n",
    "You may need to <span style=\"color:red\">synchronize spawned threads</span>."
   ]
  },
  {
   "cell_type": "code",
   "execution_count": null,
   "metadata": {
    "cell_style": "split",
    "slideshow": {
     "slide_type": "subslide"
    }
   },
   "outputs": [],
   "source": [
    "function withthreads()\n",
    "    arr = zeros(Int, 10)\n",
    "    Threads.@threads for i in 1:10\n",
    "       sleep(3 * rand())\n",
    "       arr[i] = i\n",
    "    end\n",
    "    println(\"with @threads: $arr\")\n",
    "end\n",
    "\n",
    "\n",
    "function withspawn()\n",
    "    arr = zeros(Int, 10)\n",
    "    for i in 1:10\n",
    "        Threads.@spawn begin\n",
    "            sleep(3 * rand())\n",
    "            arr[i] = i \n",
    "        end\n",
    "    end\n",
    "    println(\"with @spawn: $arr\")\n",
    "end"
   ]
  },
  {
   "cell_type": "code",
   "execution_count": 30,
   "metadata": {
    "cell_style": "split",
    "slideshow": {
     "slide_type": "fragment"
    }
   },
   "outputs": [
    {
     "name": "stdout",
     "output_type": "stream",
     "text": [
      "with @threads: [1, 2, 3, 4, 5, 6, 7, 8, 9, 10]\n",
      "with @spawn: [0, 0, 0, 0, 0, 0, 0, 0, 0, 0]\n",
      "with @sync: [1, 2, 3, 4, 5, 6, 7, 8, 9, 10]\n"
     ]
    }
   ],
   "source": [
    "       \n",
    "\n",
    "function withsync()\n",
    "    arr = zeros(Int, 10)\n",
    "    @sync begin\n",
    "        for i in 1:10\n",
    "           Threads.@spawn begin\n",
    "               sleep(3 * rand())\n",
    "               arr[i] = i\n",
    "           end\n",
    "        end\n",
    "    end\n",
    "    println(\"with @sync: $arr\")\n",
    "end\n",
    "\n",
    "withthreads()\n",
    "withspawn()\n",
    "withsync()"
   ]
  },
  {
   "cell_type": "markdown",
   "metadata": {
    "slideshow": {
     "slide_type": "subslide"
    }
   },
   "source": [
    "What exactly happened?"
   ]
  },
  {
   "cell_type": "code",
   "execution_count": 9,
   "metadata": {
    "slideshow": {
     "slide_type": "subslide"
    }
   },
   "outputs": [
    {
     "name": "stdout",
     "output_type": "stream",
     "text": [
      "1\n",
      "2\n",
      "3\n",
      "4\n",
      "5\n",
      "Spawn i : 1, thread : 3\n",
      "6\n",
      "7\n",
      "Spawn i : 6, thread : 3\n",
      "8\n",
      "Spawn i : 7, thread : 3\n",
      "9\n",
      "10\n",
      "Spawn i : 8, thread : 3\n",
      "with @spawn: [0, 0, 0, 0, 0, 0, 0, 0, 0, 0]\n",
      "Spawn i : 9, thread : 3\n",
      "Spawn i : 10, thread : 3\n",
      "Spawn i : 3, thread : 4\n",
      "Spawn i : 4, thread : 1\n",
      "Spawn i : 5, thread : 1\n",
      "Spawn i : 2, thread : 2\n",
      "Spawn 4 woke up\n",
      "Spawn 9 woke up\n",
      "Spawn 7 woke up\n",
      "Spawn 1 woke up\n",
      "Spawn 5 woke up\n",
      "Spawn 10 woke up\n",
      "Spawn 6 woke up\n",
      "Spawn 2 woke up\n",
      "Spawn 3 woke up\n",
      "Spawn 8 woke up\n"
     ]
    }
   ],
   "source": [
    "using Base.Threads\n",
    "\n",
    "function withspawn_bis()\n",
    "    arr = zeros(Int, 10)\n",
    "    for i in 1:10\n",
    "        println(i)\n",
    "        Threads.@spawn begin\n",
    "            println(\"Spawn i : \", $i, \", thread : \", $threadid())\n",
    "            sleep(3 * rand())\n",
    "            println(\"Spawn \", $i, \" woke up\")\n",
    "            arr[i] = i\n",
    "        end\n",
    "    end\n",
    "    # sleep(4)\n",
    "    println(\"with @spawn: $arr\")\n",
    "end\n",
    "withspawn_bis()"
   ]
  },
  {
   "cell_type": "markdown",
   "metadata": {
    "slideshow": {
     "slide_type": "subslide"
    }
   },
   "source": [
    "Can you get good performance with `@spawn`?\n",
    "\n",
    "Let us take the example of a <span style=\"color:red\">reccursive function</span>."
   ]
  },
  {
   "cell_type": "code",
   "execution_count": 14,
   "metadata": {
    "cell_style": "split",
    "slideshow": {
     "slide_type": "fragment"
    }
   },
   "outputs": [
    {
     "name": "stdout",
     "output_type": "stream",
     "text": [
      "  0.005021 seconds\n"
     ]
    },
    {
     "data": {
      "text/plain": [
       "832040"
      ]
     },
     "execution_count": 14,
     "metadata": {},
     "output_type": "execute_result"
    }
   ],
   "source": [
    "function Fibo(n)\n",
    "if n < 2\n",
    "    return n\n",
    "    else\n",
    "        return Fibo(n-1)+Fibo(n-2)\n",
    "    end\n",
    "end\n",
    "@time Fibo(30)"
   ]
  },
  {
   "cell_type": "code",
   "execution_count": 15,
   "metadata": {
    "cell_style": "split",
    "slideshow": {
     "slide_type": "fragment"
    }
   },
   "outputs": [
    {
     "name": "stdout",
     "output_type": "stream",
     "text": [
      "  1.336152 seconds (8.18 M allocations: 1.137 GiB, 45.76% gc time)\n"
     ]
    },
    {
     "data": {
      "text/plain": [
       "832040"
      ]
     },
     "execution_count": 15,
     "metadata": {},
     "output_type": "execute_result"
    }
   ],
   "source": [
    "import Base.Threads.@spawn\n",
    "\n",
    "function fib(n::Int)\n",
    "    if n < 2\n",
    "        return n\n",
    "    end\n",
    "    t = @spawn fib(n - 2)\n",
    "    return fib(n - 1) + fetch(t)\n",
    "end\n",
    "\n",
    "@time fib(30)"
   ]
  },
  {
   "cell_type": "markdown",
   "metadata": {
    "slideshow": {
     "slide_type": "subslide"
    }
   },
   "source": [
    "Using threads can create a lot of overhead.\n",
    "We can get faster by reducing the time needed by only using threads when the sequential code is slower "
   ]
  },
  {
   "cell_type": "code",
   "execution_count": 36,
   "metadata": {
    "cell_style": "split",
    "slideshow": {
     "slide_type": "fragment"
    }
   },
   "outputs": [
    {
     "name": "stdout",
     "output_type": "stream",
     "text": [
      "  0.016490 seconds (3.56 k allocations: 101.931 KiB)\n"
     ]
    },
    {
     "data": {
      "text/plain": [
       "832040"
      ]
     },
     "execution_count": 36,
     "metadata": {},
     "output_type": "execute_result"
    }
   ],
   "source": [
    "function fib_bis(n::Int)\n",
    "    if n < 2\n",
    "        return n\n",
    "    elseif n > 25\n",
    "        t = @spawn fib_bis(n - 2)\n",
    "        return fib_bis(n - 1) + fetch(t)\n",
    "    else\n",
    "        return fib_bis(n - 1) + fib_bis(n-2)\n",
    "    end\n",
    "end\n",
    "\n",
    "@time fib_bis(30)"
   ]
  },
  {
   "cell_type": "code",
   "execution_count": 24,
   "metadata": {
    "cell_style": "split",
    "slideshow": {
     "slide_type": "fragment"
    }
   },
   "outputs": [
    {
     "name": "stdout",
     "output_type": "stream",
     "text": [
      " 68.588469 seconds\n",
      "157.145740 seconds (52.41 M allocations: 2.700 GiB, 0.79% gc time)\n"
     ]
    },
    {
     "data": {
      "text/plain": [
       "true"
      ]
     },
     "execution_count": 24,
     "metadata": {},
     "output_type": "execute_result"
    }
   ],
   "source": [
    "a = @time Fibo(50)\n",
    "b = @time fib_bis(50)\n",
    "a == b"
   ]
  },
  {
   "cell_type": "markdown",
   "metadata": {
    "slideshow": {
     "slide_type": "subslide"
    }
   },
   "source": [
    "We can go even faster by calling the sequential function itself"
   ]
  },
  {
   "cell_type": "code",
   "execution_count": 28,
   "metadata": {
    "cell_style": "split",
    "slideshow": {
     "slide_type": "fragment"
    }
   },
   "outputs": [
    {
     "data": {
      "text/plain": [
       "fib_tri (generic function with 1 method)"
      ]
     },
     "execution_count": 28,
     "metadata": {},
     "output_type": "execute_result"
    }
   ],
   "source": [
    "function fib_tri(n::Int)\n",
    "    if n <= 25\n",
    "        return Fibo(n)\n",
    "    else\n",
    "        t = @spawn fib_tri(n - 2)\n",
    "        return fib_tri(n - 1) + fetch(t)\n",
    "    end\n",
    "end"
   ]
  },
  {
   "cell_type": "code",
   "execution_count": 37,
   "metadata": {
    "cell_style": "split",
    "slideshow": {
     "slide_type": "fragment"
    }
   },
   "outputs": [
    {
     "name": "stdout",
     "output_type": "stream",
     "text": [
      "  6.079204 seconds\n",
      " 12.620620 seconds (3.63 M allocations: 66.498 MiB, 0.92% gc time)\n",
      "  1.815553 seconds (142.76 k allocations: 13.305 MiB)\n"
     ]
    },
    {
     "data": {
      "text/plain": [
       "true"
      ]
     },
     "execution_count": 37,
     "metadata": {},
     "output_type": "execute_result"
    }
   ],
   "source": [
    "a = @time Fibo(45)\n",
    "b = @time fib_bis(45)\n",
    "c = @time fib_tri(45)\n",
    "a == b == c"
   ]
  },
  {
   "cell_type": "markdown",
   "metadata": {
    "slideshow": {
     "slide_type": "subslide"
    }
   },
   "source": [
    "As with the previous `@threads` macro, you still need to be careful about race conditions"
   ]
  },
  {
   "cell_type": "code",
   "execution_count": null,
   "metadata": {
    "cell_style": "split",
    "slideshow": {
     "slide_type": "fragment"
    }
   },
   "outputs": [],
   "source": [
    "using Base.Threads\n",
    "\n",
    "n = 10^6\n",
    "a = ones(n)\n",
    "for i=1:(n-1)\n",
    "    a[i]+= a[i+1]\n",
    "end\n",
    "\n",
    "b = ones(n)\n",
    "for i=1:(n-1)\n",
    "    Threads.@spawn begin\n",
    "        b[i]+= b[i+1]\n",
    "    end\n",
    "end "
   ]
  },
  {
   "cell_type": "code",
   "execution_count": 43,
   "metadata": {
    "cell_style": "split",
    "slideshow": {
     "slide_type": "fragment"
    }
   },
   "outputs": [
    {
     "name": "stdout",
     "output_type": "stream",
     "text": [
      "1222\n"
     ]
    }
   ],
   "source": [
    "n_error = 0\n",
    "for i=1:n\n",
    "    if a[i]!=b[i]\n",
    "        n_error += 1\n",
    "    end\n",
    "end\n",
    "println(n_error)"
   ]
  },
  {
   "cell_type": "markdown",
   "metadata": {
    "slideshow": {
     "slide_type": "slide"
    }
   },
   "source": [
    "### e) Composable Threading\n",
    "\n",
    "In julia, you can <span style=\"color:red\">compose threading</span>.\n",
    "\n",
    "This means that if you use package that already use multi-threading, they will still use it if you also want to use multithreading."
   ]
  },
  {
   "cell_type": "markdown",
   "metadata": {
    "slideshow": {
     "slide_type": "subslide"
    }
   },
   "source": [
    "Example of package using multi-threading"
   ]
  },
  {
   "cell_type": "code",
   "execution_count": 2,
   "metadata": {
    "slideshow": {
     "slide_type": "fragment"
    }
   },
   "outputs": [
    {
     "name": "stdout",
     "output_type": "stream",
     "text": [
      "  3.392750 seconds (2.70 M allocations: 320.502 MiB, 3.69% gc time)\n",
      "  2.654315 seconds (2 allocations: 190.735 MiB)\n",
      "  2.871894 seconds (2 allocations: 190.735 MiB, 0.68% gc time)\n",
      "  2.887381 seconds (2 allocations: 190.735 MiB)\n",
      "  4.051232 seconds (47 allocations: 762.943 MiB)\n",
      "  7.996629 seconds (535 allocations: 572.233 MiB)\n",
      " 11.461857 seconds (936 allocations: 381.515 MiB)\n",
      " 14.672010 seconds (1.31 k allocations: 190.797 MiB)\n"
     ]
    }
   ],
   "source": [
    "using LinearAlgebra, Base.Threads\n",
    "\n",
    "n = 5000\n",
    "A = randn(n,n)\n",
    "B = randn(n,n)\n",
    "C = zeros(n,n)\n",
    "for i=1:4\n",
    "    @time C = A*B\n",
    "end\n",
    "\n",
    "D = zeros(n,n)\n",
    "@threads for i=1:4\n",
    "    @time D = A*B\n",
    "end"
   ]
  }
 ],
 "metadata": {
  "celltoolbar": "Diaporama",
  "kernelspec": {
   "display_name": "Julia 4 Threads 1.5.3",
   "language": "julia",
   "name": "julia-4-threads-1.5"
  },
  "language_info": {
   "file_extension": ".jl",
   "mimetype": "application/julia",
   "name": "julia",
   "version": "1.5.3"
  },
  "varInspector": {
   "cols": {
    "lenName": 16,
    "lenType": 16,
    "lenVar": 40
   },
   "kernels_config": {
    "python": {
     "delete_cmd_postfix": "",
     "delete_cmd_prefix": "del ",
     "library": "var_list.py",
     "varRefreshCmd": "print(var_dic_list())"
    },
    "r": {
     "delete_cmd_postfix": ") ",
     "delete_cmd_prefix": "rm(",
     "library": "var_list.r",
     "varRefreshCmd": "cat(var_dic_list()) "
    }
   },
   "types_to_exclude": [
    "module",
    "function",
    "builtin_function_or_method",
    "instance",
    "_Feature"
   ],
   "window_display": false
  }
 },
 "nbformat": 4,
 "nbformat_minor": 4
}
